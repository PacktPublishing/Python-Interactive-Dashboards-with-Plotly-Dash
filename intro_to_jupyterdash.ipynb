{
 "cells": [
  {
   "cell_type": "markdown",
   "id": "51f564d8-68f4-4e63-b8ef-7d9a87bf7151",
   "metadata": {
    "tags": []
   },
   "source": [
    "# Install jupyter-dash"
   ]
  },
  {
   "cell_type": "code",
   "execution_count": 1,
   "id": "ffdcfd5a-f79d-4918-bda1-eb28b6a36087",
   "metadata": {
    "tags": []
   },
   "outputs": [],
   "source": [
    "# %pip install jupyter-dash"
   ]
  },
  {
   "cell_type": "markdown",
   "id": "77f2e209-4852-4139-a7c5-2984bcbb7242",
   "metadata": {},
   "source": [
    "# Import libraries"
   ]
  },
  {
   "cell_type": "code",
   "execution_count": 2,
   "id": "6666f0e1-c9b7-4c52-8e05-f0a50dcfa5c8",
   "metadata": {},
   "outputs": [],
   "source": [
    "from jupyter_dash import JupyterDash # from dash import Dash\n",
    "from dash import html, dcc, Input, Output\n",
    "import pandas as pd\n",
    "import plotly.express as px"
   ]
  },
  {
   "cell_type": "markdown",
   "id": "36a77ba7-2de4-4ae9-b9cc-62a49e16e5a7",
   "metadata": {},
   "source": [
    "# Load data"
   ]
  },
  {
   "cell_type": "code",
   "execution_count": 3,
   "id": "29489acd-1b98-45dd-b6ac-56b72ffa8f57",
   "metadata": {},
   "outputs": [],
   "source": [
    "happiness = pd.read_csv('world_happiness.csv')"
   ]
  },
  {
   "cell_type": "markdown",
   "id": "fb3bc36e-51a6-48bb-bc88-c3ae25798cbc",
   "metadata": {},
   "source": [
    "# Build the app"
   ]
  },
  {
   "cell_type": "code",
   "execution_count": 4,
   "id": "8bbda44b-8e83-4a3a-af66-bac670b882c2",
   "metadata": {},
   "outputs": [],
   "source": [
    "app = JupyterDash() # app = Dash()\n",
    "\n",
    "app.layout = html.Div([\n",
    "    html.H1('World Happiness Dashboard'),\n",
    "    html.P(['This dashboard shows the happiness score.',\n",
    "            html.Br(),\n",
    "            html.A('World Happiness Report Data Source',\n",
    "                   href='https://worldhappiness.report/',\n",
    "                   target='_blank')]),\n",
    "    dcc.Dropdown(id='country-dropdown',\n",
    "                 options=happiness['country'].unique(),\n",
    "                 value='United States'),\n",
    "    dcc.Graph(id='happiness-graph')])\n",
    "\n",
    "\n",
    "@app.callback(\n",
    "    Output('happiness-graph', 'figure'),\n",
    "    Input('country-dropdown', 'value'))\n",
    "def update_graph(selected_country):\n",
    "    filtered_happiness = happiness[happiness['country'] == selected_country]\n",
    "    line_fig = px.line(filtered_happiness,\n",
    "                       x='year', y='happiness_score',\n",
    "                       title=f'Happiness Score in {selected_country}')\n",
    "    return line_fig"
   ]
  },
  {
   "cell_type": "markdown",
   "id": "86280497-4359-42ab-9502-3e78ebee1bb8",
   "metadata": {},
   "source": [
    "# Run server - 3 available modes: `external`, `inline`, `jupyterlab`"
   ]
  },
  {
   "cell_type": "code",
   "execution_count": 5,
   "id": "faca2af4-9f03-4a84-909f-c6885de7d159",
   "metadata": {},
   "outputs": [
    {
     "name": "stdout",
     "output_type": "stream",
     "text": [
      "Dash app running on http://127.0.0.1:8050/\n"
     ]
    }
   ],
   "source": [
    "app.run_server(mode='external')"
   ]
  },
  {
   "cell_type": "code",
   "execution_count": 6,
   "id": "db983226-bb16-4948-8d3d-f83d4c8a9183",
   "metadata": {},
   "outputs": [
    {
     "data": {
      "text/html": [
       "\n",
       "        <iframe\n",
       "            width=\"100%\"\n",
       "            height=\"650\"\n",
       "            src=\"http://127.0.0.1:8050/\"\n",
       "            frameborder=\"0\"\n",
       "            allowfullscreen\n",
       "            \n",
       "        ></iframe>\n",
       "        "
      ],
      "text/plain": [
       "<IPython.lib.display.IFrame at 0x18304edffa0>"
      ]
     },
     "metadata": {},
     "output_type": "display_data"
    }
   ],
   "source": [
    "app.run_server(mode='inline')"
   ]
  },
  {
   "cell_type": "code",
   "execution_count": 7,
   "id": "2ca0d5fd-3cdf-433e-8d85-02b3290ea210",
   "metadata": {},
   "outputs": [],
   "source": [
    "# app.run_server(mode='jupyterlab')\n",
    "# https://github.com/plotly/jupyter-dash#jupyterlab-support"
   ]
  }
 ],
 "metadata": {
  "kernelspec": {
   "display_name": "Python 3 (ipykernel)",
   "language": "python",
   "name": "python3"
  },
  "language_info": {
   "codemirror_mode": {
    "name": "ipython",
    "version": 3
   },
   "file_extension": ".py",
   "mimetype": "text/x-python",
   "name": "python",
   "nbconvert_exporter": "python",
   "pygments_lexer": "ipython3",
   "version": "3.9.7"
  }
 },
 "nbformat": 4,
 "nbformat_minor": 5
}
